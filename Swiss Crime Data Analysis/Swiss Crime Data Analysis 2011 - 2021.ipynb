
    {
      "cell_type": "markdown",
      "source": [
        "# Swiss Crime Data Analysis 2011 - 2021\n",
        "\n",
        "In this notebook, we will analyze the Swiss crime data from 2011 to 2021. The goal of this analysis is to understand the trend of crimes over this 10 year timespan and identify any anomalies. We will perform the following steps:\n",
        "\n",
        "1. Load the dataset.\n",
        "2. Perform some basic exploratory data analysis (EDA) to understand the structure and characteristics of the data.\n",
        "3. Analyze the trend of crimes over the years.\n",
        "4. Identify any anomalies in the data.\n",
        "5. Provide data-driven suggestions based on the analysis."
      ],
      "metadata": {
        "jupyter": {
          "outputs_hidden": false,
          "source_hidden": false
        },
        "noteable": {
          "cell_type": "markdown"
        }
      },
      "id": "885cfd1a-911b-46bf-8300-994a445429c0"
    },
    {
      "cell_type": "code",
      "source": [
        "# Import necessary libraries\n",
        "import pandas as pd\n",
        "import numpy as np\n",
        "import matplotlib.pyplot as plt\n",
        "import seaborn as sns\n",
        "\n",
        "# Set the style of all graphs to seaborn.\n",
        "sns.set(style='whitegrid')"
      ],
      "outputs": [],
      "execution_count": null,
      "metadata": {
        "jupyter": {
          "outputs_hidden": false,
          "source_hidden": false
        },
        "noteable": {
          "cell_type": "code"
        },
        "ExecuteTime": {
          "end_time": "2023-06-04T12:50:39.168017+00:00",
          "start_time": "2023-06-04T12:50:37.279373+00:00"
        }
      },
      "id": "95fb3932-7a57-43d7-8019-828d54014128"
    },
    {
      "cell_type": "code",
      "source": [
        "# Load the dataset\n",
        "data = pd.read_csv('2011_2021_swisscrimedata_clean.csv', delimiter=';')\n",
        "\n",
        "# Display the first few rows of the data\n",
        "data.head()"
      ],
      "outputs": [
        {
          "output_type": "display_data",
          "data": {
            "application/vnd.dataresource+json": {
              "schema": {
                "fields": [
                  {
                    "name": "index",
                    "type": "integer"
                  },
                  {
                    "name": "Category",
                    "type": "string"
                  },
                  {
                    "name": "Year",
                    "type": "integer"
                  },
                  {
                    "name": "Filename",
                    "type": "string"
                  },
                  {
                    "name": "Offence/type",
                    "type": "string"
                  },
                  {
                    "name": "Cases",
                    "type": "integer"
                  },
                  {
                    "name": "Offences",
                    "type": "integer"
                  },
                  {
                    "name": "Attempted",
                    "type": "integer"
                  },
                  {
                    "name": "Multiple",
                    "type": "integer"
                  },
                  {
                    "name": "Solved",
                    "type": "integer"
                  },
                  {
                    "name": "Total accused",
                    "type": "integer"
                  },
                  {
                    "name": "<10",
                    "type": "string"
                  },
                  {
                    "name": "10-14",
                    "type": "string"
                  },
                  {
                    "name": "15-17",
                    "type": "string"
                  },
                  {
                    "name": "18-19",
                    "type": "string"
                  },
                  {
                    "name": "20-24",
                    "type": "string"
                  },
                  {
                    "name": "25-29",
                    "type": "string"
                  },
                  {
                    "name": "30-34",
                    "type": "string"
                  },
                  {
                    "name": "35-39",
                    "type": "string"
                  },
                  {
                    "name": "40-49",
                    "type": "string"
                  },
                  {
                    "name": "50-59",
                    "type": "string"
                  },
                  {
                    "name": "60-69",
                    "type": "string"
                  },
                  {
                    "name": "70-99",
                    "type": "string"
                  },
                  {
                    "name": "No information",
                    "type": "string"
                  },
                  {
                    "name": "Male",
                    "type": "string"
                  },
                  {
                    "name": "Female",
                    "type": "string"
                  },
                  {
                    "name": "Legal persons",
                    "type": "string"
                  },
                  {
                    "name": "No information_1",
                    "type": "string"
                  },
                  {
                    "name": "Total",
                    "type": "string"
                  },
                  {
                    "name": "Residents",
                    "type": "string"
                  },
                  {
                    "name": "Asylum I",
                    "type": "string"
                  },
                  {
                    "name": "Asylum II",
                    "type": "string"
                  },
                  {
                    "name": "Miscellaneous",
                    "type": "string"
                  },
                  {
                    "name": "No information_2",
                    "type": "string"
                  }
                ],
                "primaryKey": [
                  "index"
                ],
                "pandas_version": "1.4.0"
              },
              "data": [
                {
                  "index": 0,
                  "Category": "Life and Limb",
                  "Year": 2011,
                  "Filename": "2011_swisscrime.csv",
                  "Offence/type": "311.00.111.00 Homicide",
                  "Cases": 200,
                  "Offences": 229,
                  "Attempted": 184,
                  "Multiple": 3,
                  "Solved": 222,
                  "Total accused": 253,
                  "<10": "0",
                  "10-14": "1",
                  "15-17": "15",
                  "18-19": "16",
                  "20-24": "48",
                  "25-29": "44",
                  "30-34": "32",
                  "35-39": "21",
                  "40-49": "42",
                  "50-59": "23",
                  "60-69": "4",
                  "70-99": "7",
                  "No information": "0",
                  "Male": "226",
                  "Female": "27",
                  "Legal persons": "0",
                  "No information_1": "0",
                  "Total": "151",
                  "Residents": "78",
                  "Asylum I": "26",
                  "Asylum II": "1",
                  "Miscellaneous": "44",
                  "No information_2": "2"
                },
                {
                  "index": 1,
                  "Category": "Life and Limb",
                  "Year": 2011,
                  "Filename": "2011_swisscrime.csv",
                  "Offence/type": "311.00.116.00 Infanticide",
                  "Cases": 1,
                  "Offences": 1,
                  "Attempted": 0,
                  "Multiple": 0,
                  "Solved": 1,
                  "Total accused": 1,
                  "<10": "X",
                  "10-14": "X",
                  "15-17": "X",
                  "18-19": "X",
                  "20-24": "X",
                  "25-29": "X",
                  "30-34": "X",
                  "35-39": "X",
                  "40-49": "X",
                  "50-59": "X",
                  "60-69": "X",
                  "70-99": "X",
                  "No information": "X",
                  "Male": "X",
                  "Female": "X",
                  "Legal persons": "X",
                  "No information_1": "X",
                  "Total": "X",
                  "Residents": "X",
                  "Asylum I": "X",
                  "Asylum II": "X",
                  "Miscellaneous": "X",
                  "No information_2": "X"
                },
                {
                  "index": 2,
                  "Category": "Life and Limb",
                  "Year": 2011,
                  "Filename": "2011_swisscrime.csv",
                  "Offence/type": "311.00.117.00 Homicide through negligence",
                  "Cases": 36,
                  "Offences": 37,
                  "Attempted": 0,
                  "Multiple": 0,
                  "Solved": 26,
                  "Total accused": 34,
                  "<10": "0",
                  "10-14": "0",
                  "15-17": "0",
                  "18-19": "2",
                  "20-24": "3",
                  "25-29": "0",
                  "30-34": "6",
                  "35-39": "4",
                  "40-49": "6",
                  "50-59": "4",
                  "60-69": "4",
                  "70-99": "4",
                  "No information": "0",
                  "Male": "25",
                  "Female": "8",
                  "Legal persons": "1",
                  "No information_1": "0",
                  "Total": "6",
                  "Residents": "2",
                  "Asylum I": "0",
                  "Asylum II": "0",
                  "Miscellaneous": "4",
                  "No information_2": "0"
                },
                {
                  "index": 3,
                  "Category": "Life and Limb",
                  "Year": 2011,
                  "Filename": "2011_swisscrime.csv",
                  "Offence/type": "311.00.118.00 Illegal abortion",
                  "Cases": 6,
                  "Offences": 6,
                  "Attempted": 0,
                  "Multiple": 1,
                  "Solved": 6,
                  "Total accused": 8,
                  "<10": "0",
                  "10-14": "0",
                  "15-17": "0",
                  "18-19": "0",
                  "20-24": "2",
                  "25-29": "2",
                  "30-34": "1",
                  "35-39": "0",
                  "40-49": "3",
                  "50-59": "0",
                  "60-69": "0",
                  "70-99": "0",
                  "No information": "0",
                  "Male": "4",
                  "Female": "4",
                  "Legal persons": "0",
                  "No information_1": "0",
                  "Total": "8",
                  "Residents": "6",
                  "Asylum I": "2",
                  "Asylum II": "0",
                  "Miscellaneous": "0",
                  "No information_2": "0"
                },
                {
                  "index": 4,
                  "Category": "Life and Limb",
                  "Year": 2011,
                  "Filename": "2011_swisscrime.csv",
                  "Offence/type": "311.00.122.00 Grievous bodily harm",
                  "Cases": 406,
                  "Offences": 487,
                  "Attempted": 73,
                  "Multiple": 11,
                  "Solved": 407,
                  "Total accused": 513,
                  "<10": "0",
                  "10-14": "16",
                  "15-17": "72",
                  "18-19": "59",
                  "20-24": "112",
                  "25-29": "70",
                  "30-34": "51",
                  "35-39": "35",
                  "40-49": "57",
                  "50-59": "31",
                  "60-69": "5",
                  "70-99": "3",
                  "No information": "2",
                  "Male": "466",
                  "Female": "46",
                  "Legal persons": "0",
                  "No information_1": "1",
                  "Total": "268",
                  "Residents": "177",
                  "Asylum I": "51",
                  "Asylum II": "4",
                  "Miscellaneous": "33",
                  "No information_2": "3"
                }
              ],
              "datalink": {
                "display_id": "ab4ef9bf-aac1-49de-8ece-5026f7dfbba5"
              }
            }
          },
          "metadata": {
            "application/vnd.dataresource+json": {
              "datalink": {
                "dataframe_info": {
                  "default_index_used": true,
                  "orig_size_bytes": 1360,
                  "orig_num_rows": 5,
                  "orig_num_cols": 33,
                  "truncated_string_columns": [],
                  "truncated_size_bytes": 1360,
                  "truncated_num_rows": 5,
                  "truncated_num_cols": 33
                },
                "dx_settings": {
                  "NUM_PAST_SAMPLES_TRACKED": 3,
                  "ENABLE_DATALINK": true,
                  "DISPLAY_MODE": "simple",
                  "GENERATE_DEX_METADATA": false,
                  "STRINGIFY_INDEX_VALUES": false,
                  "ALLOW_NOTEABLE_ATTRS": true,
                  "DISPLAY_MAX_COLUMNS": 100,
                  "HTML_TABLE_SCHEMA": false,
                  "SAMPLING_FACTOR": 0.1,
                  "LOG_LEVEL": 30,
                  "ENABLE_ASSIGNMENT": true,
                  "FLATTEN_INDEX_VALUES": false,
                  "DEV_MODE": false,
                  "COLUMN_SAMPLING_METHOD": "outer",
                  "FLATTEN_COLUMN_VALUES": true,
                  "DISPLAY_MAX_ROWS": 50000,
                  "ROW_SAMPLING_METHOD": "random",
                  "RANDOM_STATE": 12648430,
                  "DB_LOCATION": ":memory:",
                  "STRINGIFY_COLUMN_VALUES": true,
                  "SAMPLING_METHOD": "random",
                  "MAX_STRING_LENGTH": 250,
                  "MAX_RENDER_SIZE_BYTES": 104857600,
                  "RESET_INDEX_VALUES": false
                },
                "display_id": "ab4ef9bf-aac1-49de-8ece-5026f7dfbba5",
                "applied_filters": [],
                "sample_history": [],
                "sampling_time": "2023-06-04T12:54:50.202016",
                "variable_name": "unk_dataframe_22b3de7a528b4f4a897923e0bc9164d5",
                "user_variable_name": null
              },
              "display_id": "ab4ef9bf-aac1-49de-8ece-5026f7dfbba5"
            }
          }
        }
      ],
      "execution_count": null,
      "metadata": {
        "jupyter": {
          "outputs_hidden": false,
          "source_hidden": false
        },
        "noteable": {
          "cell_type": "code"
        },
        "ExecuteTime": {
          "end_time": "2023-06-04T12:54:50.363739+00:00",
          "start_time": "2023-06-04T12:54:50.021219+00:00"
        },
        "datalink": {
          "ab4ef9bf-aac1-49de-8ece-5026f7dfbba5": {
            "applied_filters": [],
            "dataframe_info": {
              "default_index_used": true,
              "orig_num_cols": 33,
              "orig_num_rows": 5,
              "orig_size_bytes": 1360,
              "truncated_num_cols": 33,
              "truncated_num_rows": 5,
              "truncated_size_bytes": 1360,
              "truncated_string_columns": []
            },
            "display_id": "ab4ef9bf-aac1-49de-8ece-5026f7dfbba5",
            "dx_settings": {
              "ALLOW_NOTEABLE_ATTRS": true,
              "COLUMN_SAMPLING_METHOD": "outer",
              "DB_LOCATION": ":memory:",
              "DEV_MODE": false,
              "DISPLAY_MAX_COLUMNS": 100,
              "DISPLAY_MAX_ROWS": 50000,
              "DISPLAY_MODE": "simple",
              "ENABLE_ASSIGNMENT": true,
              "ENABLE_DATALINK": true,
              "FLATTEN_COLUMN_VALUES": true,
              "FLATTEN_INDEX_VALUES": false,
              "GENERATE_DEX_METADATA": false,
              "HTML_TABLE_SCHEMA": false,
              "LOG_LEVEL": 30,
              "MAX_RENDER_SIZE_BYTES": 104857600,
              "MAX_STRING_LENGTH": 250,
              "NUM_PAST_SAMPLES_TRACKED": 3,
              "RANDOM_STATE": 12648430,
              "RESET_INDEX_VALUES": false,
              "ROW_SAMPLING_METHOD": "random",
              "SAMPLING_FACTOR": 0.1,
              "SAMPLING_METHOD": "random",
              "STRINGIFY_COLUMN_VALUES": true,
              "STRINGIFY_INDEX_VALUES": false
            },
            "sample_history": [],
            "sampling_time": "2023-06-04T12:54:50.202016",
            "user_variable_name": null,
            "variable_name": "unk_dataframe_22b3de7a528b4f4a897923e0bc9164d5"
          }
        }
      },
      "id": "3bfe94fb-9ed8-4dd0-bf18-a42f7dd6f391"
    },
    {
      "cell_type": "code",
      "source": [
        "# Check the shape of the data\n",
        "data.shape"
      ],
      "outputs": [
        {
          "output_type": "execute_result",
          "execution_count": null,
          "data": {
            "text/plain": "(2086, 33)"
          },
          "metadata": {}
        }
      ],
      "execution_count": null,
      "metadata": {
        "jupyter": {
          "outputs_hidden": false,
          "source_hidden": false
        },
        "noteable": {
          "cell_type": "code"
        },
        "ExecuteTime": {
          "end_time": "2023-06-04T12:55:19.003404+00:00",
          "start_time": "2023-06-04T12:55:18.842892+00:00"
        }
      },
      "id": "64418037-9698-4f07-ba62-703287b490eb"
    },
    {
      "cell_type": "code",
      "source": [
        "# Check the data types of the columns\n",
        "data.dtypes"
      ],
      "outputs": [
        {
          "output_type": "display_data",
          "data": {
            "application/vnd.dataresource+json": {
              "schema": {
                "fields": [
                  {
                    "name": "index",
                    "type": "string"
                  },
                  {
                    "name": "0",
                    "type": "string"
                  }
                ],
                "primaryKey": [
                  "index"
                ],
                "pandas_version": "1.4.0"
              },
              "data": [
                {
                  "0": "object",
                  "index": "Category"
                },
                {
                  "0": "int64",
                  "index": "Year"
                },
                {
                  "0": "object",
                  "index": "Filename"
                },
                {
                  "0": "object",
                  "index": "Offence/type"
                },
                {
                  "0": "int64",
                  "index": "Cases"
                },
                {
                  "0": "int64",
                  "index": "Offences"
                },
                {
                  "0": "int64",
                  "index": "Attempted"
                },
                {
                  "0": "int64",
                  "index": "Multiple"
                },
                {
                  "0": "int64",
                  "index": "Solved"
                },
                {
                  "0": "int64",
                  "index": "Total accused"
                },
                {
                  "0": "object",
                  "index": "<10"
                },
                {
                  "0": "object",
                  "index": "10-14"
                },
                {
                  "0": "object",
                  "index": "15-17"
                },
                {
                  "0": "object",
                  "index": "18-19"
                },
                {
                  "0": "object",
                  "index": "20-24"
                },
                {
                  "0": "object",
                  "index": "25-29"
                },
                {
                  "0": "object",
                  "index": "30-34"
                },
                {
                  "0": "object",
                  "index": "35-39"
                },
                {
                  "0": "object",
                  "index": "40-49"
                },
                {
                  "0": "object",
                  "index": "50-59"
                },
                {
                  "0": "object",
                  "index": "60-69"
                },
                {
                  "0": "object",
                  "index": "70-99"
                },
                {
                  "0": "object",
                  "index": "No information"
                },
                {
                  "0": "object",
                  "index": "Male"
                },
                {
                  "0": "object",
                  "index": "Female"
                },
                {
                  "0": "object",
                  "index": "Legal persons"
                },
                {
                  "0": "object",
                  "index": "No information_1"
                },
                {
                  "0": "object",
                  "index": "Total"
                },
                {
                  "0": "object",
                  "index": "Residents"
                },
                {
                  "0": "object",
                  "index": "Asylum I"
                },
                {
                  "0": "object",
                  "index": "Asylum II"
                },
                {
                  "0": "object",
                  "index": "Miscellaneous"
                },
                {
                  "0": "object",
                  "index": "No information_2"
                }
              ],
              "datalink": {
                "display_id": "c67420a3-80fa-4747-b88e-a5afa1c340ef"
              }
            }
          },
          "metadata": {
            "application/vnd.dataresource+json": {
              "datalink": {
                "dataframe_info": {
                  "default_index_used": false,
                  "orig_size_bytes": 528,
                  "orig_num_rows": 33,
                  "orig_num_cols": 1,
                  "truncated_string_columns": [],
                  "truncated_size_bytes": 528,
                  "truncated_num_rows": 33,
                  "truncated_num_cols": 1
                },
                "dx_settings": {
                  "NUM_PAST_SAMPLES_TRACKED": 3,
                  "ENABLE_DATALINK": true,
                  "DISPLAY_MODE": "simple",
                  "GENERATE_DEX_METADATA": false,
                  "STRINGIFY_INDEX_VALUES": false,
                  "ALLOW_NOTEABLE_ATTRS": true,
                  "DISPLAY_MAX_COLUMNS": 100,
                  "HTML_TABLE_SCHEMA": false,
                  "SAMPLING_FACTOR": 0.1,
                  "LOG_LEVEL": 30,
                  "ENABLE_ASSIGNMENT": true,
                  "FLATTEN_INDEX_VALUES": false,
                  "DEV_MODE": false,
                  "COLUMN_SAMPLING_METHOD": "outer",
                  "FLATTEN_COLUMN_VALUES": true,
                  "DISPLAY_MAX_ROWS": 50000,
                  "ROW_SAMPLING_METHOD": "random",
                  "RANDOM_STATE": 12648430,
                  "DB_LOCATION": ":memory:",
                  "STRINGIFY_COLUMN_VALUES": true,
                  "SAMPLING_METHOD": "random",
                  "MAX_STRING_LENGTH": 250,
                  "MAX_RENDER_SIZE_BYTES": 104857600,
                  "RESET_INDEX_VALUES": false
                },
                "display_id": "c67420a3-80fa-4747-b88e-a5afa1c340ef",
                "applied_filters": [],
                "sample_history": [],
                "sampling_time": "2023-06-04T12:55:48.067750",
                "variable_name": "unk_dataframe_42f793b659a94e36a72f3af96e6e31b2",
                "user_variable_name": null
              },
              "display_id": "c67420a3-80fa-4747-b88e-a5afa1c340ef"
            }
          }
        }
      ],
      "execution_count": null,
      "metadata": {
        "jupyter": {
          "outputs_hidden": false,
          "source_hidden": false
        },
        "noteable": {
          "cell_type": "code"
        },
        "ExecuteTime": {
          "end_time": "2023-06-04T12:55:48.224427+00:00",
          "start_time": "2023-06-04T12:55:48.032700+00:00"
        },
        "datalink": {
          "c67420a3-80fa-4747-b88e-a5afa1c340ef": {
            "applied_filters": [],
            "dataframe_info": {
              "default_index_used": false,
              "orig_num_cols": 1,
              "orig_num_rows": 33,
              "orig_size_bytes": 528,
              "truncated_num_cols": 1,
              "truncated_num_rows": 33,
              "truncated_size_bytes": 528,
              "truncated_string_columns": []
            },
            "display_id": "c67420a3-80fa-4747-b88e-a5afa1c340ef",
            "dx_settings": {
              "ALLOW_NOTEABLE_ATTRS": true,
              "COLUMN_SAMPLING_METHOD": "outer",
              "DB_LOCATION": ":memory:",
              "DEV_MODE": false,
              "DISPLAY_MAX_COLUMNS": 100,
              "DISPLAY_MAX_ROWS": 50000,
              "DISPLAY_MODE": "simple",
              "ENABLE_ASSIGNMENT": true,
              "ENABLE_DATALINK": true,
              "FLATTEN_COLUMN_VALUES": true,
              "FLATTEN_INDEX_VALUES": false,
              "GENERATE_DEX_METADATA": false,
              "HTML_TABLE_SCHEMA": false,
              "LOG_LEVEL": 30,
              "MAX_RENDER_SIZE_BYTES": 104857600,
              "MAX_STRING_LENGTH": 250,
              "NUM_PAST_SAMPLES_TRACKED": 3,
              "RANDOM_STATE": 12648430,
              "RESET_INDEX_VALUES": false,
              "ROW_SAMPLING_METHOD": "random",
              "SAMPLING_FACTOR": 0.1,
              "SAMPLING_METHOD": "random",
              "STRINGIFY_COLUMN_VALUES": true,
              "STRINGIFY_INDEX_VALUES": false
            },
            "sample_history": [],
            "sampling_time": "2023-06-04T12:55:48.067750",
            "user_variable_name": null,
            "variable_name": "unk_dataframe_42f793b659a94e36a72f3af96e6e31b2"
          }
        }
      },
      "id": "1c574b40-4ccc-4891-ab03-a9a216ea9aff"
    },
    {
      "cell_type": "code",
      "source": [
        "# Check for missing values\n",
        "data.isnull().sum()"
      ],
      "outputs": [
        {
          "output_type": "display_data",
          "data": {
            "application/vnd.dataresource+json": {
              "schema": {
                "fields": [
                  {
                    "name": "index",
                    "type": "string"
                  },
                  {
                    "name": "0",
                    "type": "integer"
                  }
                ],
                "primaryKey": [
                  "index"
                ],
                "pandas_version": "1.4.0"
              },
              "data": [
                {
                  "0": 0,
                  "index": "Category"
                },
                {
                  "0": 0,
                  "index": "Year"
                },
                {
                  "0": 0,
                  "index": "Filename"
                },
                {
                  "0": 0,
                  "index": "Offence/type"
                },
                {
                  "0": 0,
                  "index": "Cases"
                },
                {
                  "0": 0,
                  "index": "Offences"
                },
                {
                  "0": 0,
                  "index": "Attempted"
                },
                {
                  "0": 0,
                  "index": "Multiple"
                },
                {
                  "0": 0,
                  "index": "Solved"
                },
                {
                  "0": 0,
                  "index": "Total accused"
                },
                {
                  "0": 0,
                  "index": "<10"
                },
                {
                  "0": 0,
                  "index": "10-14"
                },
                {
                  "0": 0,
                  "index": "15-17"
                },
                {
                  "0": 0,
                  "index": "18-19"
                },
                {
                  "0": 0,
                  "index": "20-24"
                },
                {
                  "0": 0,
                  "index": "25-29"
                },
                {
                  "0": 0,
                  "index": "30-34"
                },
                {
                  "0": 0,
                  "index": "35-39"
                },
                {
                  "0": 0,
                  "index": "40-49"
                },
                {
                  "0": 0,
                  "index": "50-59"
                },
                {
                  "0": 0,
                  "index": "60-69"
                },
                {
                  "0": 0,
                  "index": "70-99"
                },
                {
                  "0": 0,
                  "index": "No information"
                },
                {
                  "0": 0,
                  "index": "Male"
                },
                {
                  "0": 0,
                  "index": "Female"
                },
                {
                  "0": 0,
                  "index": "Legal persons"
                },
                {
                  "0": 0,
                  "index": "No information_1"
                },
                {
                  "0": 0,
                  "index": "Total"
                },
                {
                  "0": 0,
                  "index": "Residents"
                },
                {
                  "0": 0,
                  "index": "Asylum I"
                },
                {
                  "0": 0,
                  "index": "Asylum II"
                },
                {
                  "0": 0,
                  "index": "Miscellaneous"
                },
                {
                  "0": 0,
                  "index": "No information_2"
                }
              ],
              "datalink": {
                "display_id": "241c00f6-1a81-4095-a4ad-471532ec4892"
              }
            }
          },
          "metadata": {
            "application/vnd.dataresource+json": {
              "datalink": {
                "dataframe_info": {
                  "default_index_used": false,
                  "orig_size_bytes": 528,
                  "orig_num_rows": 33,
                  "orig_num_cols": 1,
                  "truncated_string_columns": [],
                  "truncated_size_bytes": 528,
                  "truncated_num_rows": 33,
                  "truncated_num_cols": 1
                },
                "dx_settings": {
                  "NUM_PAST_SAMPLES_TRACKED": 3,
                  "ENABLE_DATALINK": true,
                  "DISPLAY_MODE": "simple",
                  "GENERATE_DEX_METADATA": false,
                  "STRINGIFY_INDEX_VALUES": false,
                  "ALLOW_NOTEABLE_ATTRS": true,
                  "DISPLAY_MAX_COLUMNS": 100,
                  "HTML_TABLE_SCHEMA": false,
                  "SAMPLING_FACTOR": 0.1,
                  "LOG_LEVEL": 30,
                  "ENABLE_ASSIGNMENT": true,
                  "FLATTEN_INDEX_VALUES": false,
                  "DEV_MODE": false,
                  "COLUMN_SAMPLING_METHOD": "outer",
                  "FLATTEN_COLUMN_VALUES": true,
                  "DISPLAY_MAX_ROWS": 50000,
                  "ROW_SAMPLING_METHOD": "random",
                  "RANDOM_STATE": 12648430,
                  "DB_LOCATION": ":memory:",
                  "STRINGIFY_COLUMN_VALUES": true,
                  "SAMPLING_METHOD": "random",
                  "MAX_STRING_LENGTH": 250,
                  "MAX_RENDER_SIZE_BYTES": 104857600,
                  "RESET_INDEX_VALUES": false
                },
                "display_id": "241c00f6-1a81-4095-a4ad-471532ec4892",
                "applied_filters": [],
                "sample_history": [],
                "sampling_time": "2023-06-04T12:56:13.851619",
                "variable_name": "unk_dataframe_174981f9d94241ee98dce1e1ea9c5f65",
                "user_variable_name": null
              },
              "display_id": "241c00f6-1a81-4095-a4ad-471532ec4892"
            }
          }
        }
      ],
      "execution_count": null,
      "metadata": {
        "jupyter": {
          "outputs_hidden": false,
          "source_hidden": false
        },
        "noteable": {
          "cell_type": "code"
        },
        "ExecuteTime": {
          "end_time": "2023-06-04T12:56:14.008519+00:00",
          "start_time": "2023-06-04T12:56:13.814171+00:00"
        },
        "datalink": {
          "241c00f6-1a81-4095-a4ad-471532ec4892": {
            "applied_filters": [],
            "dataframe_info": {
              "default_index_used": false,
              "orig_num_cols": 1,
              "orig_num_rows": 33,
              "orig_size_bytes": 528,
              "truncated_num_cols": 1,
              "truncated_num_rows": 33,
              "truncated_size_bytes": 528,
              "truncated_string_columns": []
            },
            "display_id": "241c00f6-1a81-4095-a4ad-471532ec4892",
            "dx_settings": {
              "ALLOW_NOTEABLE_ATTRS": true,
              "COLUMN_SAMPLING_METHOD": "outer",
              "DB_LOCATION": ":memory:",
              "DEV_MODE": false,
              "DISPLAY_MAX_COLUMNS": 100,
              "DISPLAY_MAX_ROWS": 50000,
              "DISPLAY_MODE": "simple",
              "ENABLE_ASSIGNMENT": true,
              "ENABLE_DATALINK": true,
              "FLATTEN_COLUMN_VALUES": true,
              "FLATTEN_INDEX_VALUES": false,
              "GENERATE_DEX_METADATA": false,
              "HTML_TABLE_SCHEMA": false,
              "LOG_LEVEL": 30,
              "MAX_RENDER_SIZE_BYTES": 104857600,
              "MAX_STRING_LENGTH": 250,
              "NUM_PAST_SAMPLES_TRACKED": 3,
              "RANDOM_STATE": 12648430,
              "RESET_INDEX_VALUES": false,
              "ROW_SAMPLING_METHOD": "random",
              "SAMPLING_FACTOR": 0.1,
              "SAMPLING_METHOD": "random",
              "STRINGIFY_COLUMN_VALUES": true,
              "STRINGIFY_INDEX_VALUES": false
            },
            "sample_history": [],
            "sampling_time": "2023-06-04T12:56:13.851619",
            "user_variable_name": null,
            "variable_name": "unk_dataframe_174981f9d94241ee98dce1e1ea9c5f65"
          }
        }
      },
      "id": "b4b5bf94-2e10-40a4-8ae5-9f8f7046aa93"
    },
    {
      "cell_type": "markdown",
      "source": [
        "## Exploratory Data Analysis (EDA)\n",
        "\n",
        "Now that we have loaded the data and checked its basic properties, let's perform some exploratory data analysis to understand the data better."
      ],
      "metadata": {
        "jupyter": {
          "outputs_hidden": false,
          "source_hidden": false
        },
        "noteable": {
          "cell_type": "markdown"
        }
      },
      "id": "457c81a1-1aac-4ec3-9730-b666e48ca3ed"
    },
    {
      "cell_type": "code",
      "source": [
        "# Summary statistics\n",
        "data.describe(include='all')"
      ],
      "outputs": [
        {
          "output_type": "display_data",
          "data": {
            "application/vnd.dataresource+json": {
              "schema": {
                "fields": [
                  {
                    "name": "index",
                    "type": "string"
                  },
                  {
                    "name": "Category",
                    "type": "string"
                  },
                  {
                    "name": "Year",
                    "type": "number"
                  },
                  {
                    "name": "Filename",
                    "type": "string"
                  },
                  {
                    "name": "Offence/type",
                    "type": "string"
                  },
                  {
                    "name": "Cases",
                    "type": "number"
                  },
                  {
                    "name": "Offences",
                    "type": "number"
                  },
                  {
                    "name": "Attempted",
                    "type": "number"
                  },
                  {
                    "name": "Multiple",
                    "type": "number"
                  },
                  {
                    "name": "Solved",
                    "type": "number"
                  },
                  {
                    "name": "Total accused",
                    "type": "number"
                  },
                  {
                    "name": "<10",
                    "type": "string"
                  },
                  {
                    "name": "10-14",
                    "type": "string"
                  },
                  {
                    "name": "15-17",
                    "type": "string"
                  },
                  {
                    "name": "18-19",
                    "type": "string"
                  },
                  {
                    "name": "20-24",
                    "type": "string"
                  },
                  {
                    "name": "25-29",
                    "type": "string"
                  },
                  {
                    "name": "30-34",
                    "type": "string"
                  },
                  {
                    "name": "35-39",
                    "type": "string"
                  },
                  {
                    "name": "40-49",
                    "type": "string"
                  },
                  {
                    "name": "50-59",
                    "type": "string"
                  },
                  {
                    "name": "60-69",
                    "type": "string"
                  },
                  {
                    "name": "70-99",
                    "type": "string"
                  },
                  {
                    "name": "No information",
                    "type": "string"
                  },
                  {
                    "name": "Male",
                    "type": "string"
                  },
                  {
                    "name": "Female",
                    "type": "string"
                  },
                  {
                    "name": "Legal persons",
                    "type": "string"
                  },
                  {
                    "name": "No information_1",
                    "type": "string"
                  },
                  {
                    "name": "Total",
                    "type": "string"
                  },
                  {
                    "name": "Residents",
                    "type": "string"
                  },
                  {
                    "name": "Asylum I",
                    "type": "string"
                  },
                  {
                    "name": "Asylum II",
                    "type": "string"
                  },
                  {
                    "name": "Miscellaneous",
                    "type": "string"
                  },
                  {
                    "name": "No information_2",
                    "type": "string"
                  }
                ],
                "primaryKey": [
                  "index"
                ],
                "pandas_version": "1.4.0"
              },
              "data": [
                {
                  "index": "count",
                  "Category": "2086",
                  "Year": 2086,
                  "Filename": "2086",
                  "Offence/type": "2086",
                  "Cases": 2086,
                  "Offences": 2086,
                  "Attempted": 2086,
                  "Multiple": 2086,
                  "Solved": 2086,
                  "Total accused": 2086,
                  "<10": "2086",
                  "10-14": "2086",
                  "15-17": "2086",
                  "18-19": "2086",
                  "20-24": "2086",
                  "25-29": "2086",
                  "30-34": "2086",
                  "35-39": "2086",
                  "40-49": "2086",
                  "50-59": "2086",
                  "60-69": "2086",
                  "70-99": "2086",
                  "No information": "2086",
                  "Male": "2086",
                  "Female": "2086",
                  "Legal persons": "2086",
                  "No information_1": "2086",
                  "Total": "2086",
                  "Residents": "2086",
                  "Asylum I": "2086",
                  "Asylum II": "2086",
                  "Miscellaneous": "2086",
                  "No information_2": "2086"
                },
                {
                  "index": "unique",
                  "Category": "24",
                  "Year": null,
                  "Filename": "11",
                  "Offence/type": "272",
                  "Cases": null,
                  "Offences": null,
                  "Attempted": null,
                  "Multiple": null,
                  "Solved": null,
                  "Total accused": null,
                  "<10": "22",
                  "10-14": "217",
                  "15-17": "310",
                  "18-19": "276",
                  "20-24": "396",
                  "25-29": "390",
                  "30-34": "366",
                  "35-39": "343",
                  "40-49": "407",
                  "50-59": "331",
                  "60-69": "223",
                  "70-99": "141",
                  "No information": "38",
                  "Male": "743",
                  "Female": "435",
                  "Legal persons": "46",
                  "No information_1": "14",
                  "Total": "646",
                  "Residents": "522",
                  "Asylum I": "258",
                  "Asylum II": "90",
                  "Miscellaneous": "399",
                  "No information_2": "81"
                },
                {
                  "index": "top",
                  "Category": "Property",
                  "Year": null,
                  "Filename": "2016_swisscrime.csv",
                  "Offence/type": "311.00.179.A0 Listening in on and recording the conversations of others",
                  "Cases": null,
                  "Offences": null,
                  "Attempted": null,
                  "Multiple": null,
                  "Solved": null,
                  "Total accused": null,
                  "<10": "0",
                  "10-14": "0",
                  "15-17": "0",
                  "18-19": "0",
                  "20-24": "0",
                  "25-29": "0",
                  "30-34": "0",
                  "35-39": "X",
                  "40-49": "X",
                  "50-59": "X",
                  "60-69": "0",
                  "70-99": "0",
                  "No information": "0",
                  "Male": "X",
                  "Female": "X",
                  "Legal persons": "0",
                  "No information_1": "0",
                  "Total": "X",
                  "Residents": "X",
                  "Asylum I": "0",
                  "Asylum II": "0",
                  "Miscellaneous": "X",
                  "No information_2": "0"
                },
                {
                  "index": "freq",
                  "Category": "510",
                  "Year": null,
                  "Filename": "197",
                  "Offence/type": "11",
                  "Cases": null,
                  "Offences": null,
                  "Attempted": null,
                  "Multiple": null,
                  "Solved": null,
                  "Total accused": null,
                  "<10": "1613",
                  "10-14": "903",
                  "15-17": "712",
                  "18-19": "645",
                  "20-24": "330",
                  "25-29": "295",
                  "30-34": "255",
                  "35-39": "251",
                  "40-49": "251",
                  "50-59": "251",
                  "60-69": "398",
                  "70-99": "699",
                  "No information": "1374",
                  "Male": "251",
                  "Female": "251",
                  "Legal persons": "1352",
                  "No information_1": "1733",
                  "Total": "251",
                  "Residents": "439",
                  "Asylum I": "606",
                  "Asylum II": "1024",
                  "Miscellaneous": "439",
                  "No information_2": "1265"
                },
                {
                  "index": "mean",
                  "Category": "nan",
                  "Year": 2016.0086289549376,
                  "Filename": "nan",
                  "Offence/type": "nan",
                  "Cases": 2449.166347075743,
                  "Offences": 2576.650527325024,
                  "Attempted": 127.98609779482263,
                  "Multiple": 68.79434324065197,
                  "Solved": 867.8686481303931,
                  "Total accused": 736.4007670182167,
                  "<10": "nan",
                  "10-14": "nan",
                  "15-17": "nan",
                  "18-19": "nan",
                  "20-24": "nan",
                  "25-29": "nan",
                  "30-34": "nan",
                  "35-39": "nan",
                  "40-49": "nan",
                  "50-59": "nan",
                  "60-69": "nan",
                  "70-99": "nan",
                  "No information": "nan",
                  "Male": "nan",
                  "Female": "nan",
                  "Legal persons": "nan",
                  "No information_1": "nan",
                  "Total": "nan",
                  "Residents": "nan",
                  "Asylum I": "nan",
                  "Asylum II": "nan",
                  "Miscellaneous": "nan",
                  "No information_2": "nan"
                },
                {
                  "index": "std",
                  "Category": "nan",
                  "Year": 3.15254415006915,
                  "Filename": "nan",
                  "Offence/type": "nan",
                  "Cases": 8533.525110422124,
                  "Offences": 8746.489986286417,
                  "Attempted": 1021.5742759317395,
                  "Multiple": 288.37056892675685,
                  "Solved": 2207.0022221641957,
                  "Total accused": 1805.4586483537867,
                  "<10": "nan",
                  "10-14": "nan",
                  "15-17": "nan",
                  "18-19": "nan",
                  "20-24": "nan",
                  "25-29": "nan",
                  "30-34": "nan",
                  "35-39": "nan",
                  "40-49": "nan",
                  "50-59": "nan",
                  "60-69": "nan",
                  "70-99": "nan",
                  "No information": "nan",
                  "Male": "nan",
                  "Female": "nan",
                  "Legal persons": "nan",
                  "No information_1": "nan",
                  "Total": "nan",
                  "Residents": "nan",
                  "Asylum I": "nan",
                  "Asylum II": "nan",
                  "Miscellaneous": "nan",
                  "No information_2": "nan"
                },
                {
                  "index": "min",
                  "Category": "nan",
                  "Year": 2011,
                  "Filename": "nan",
                  "Offence/type": "nan",
                  "Cases": 1,
                  "Offences": 1,
                  "Attempted": 0,
                  "Multiple": 0,
                  "Solved": 0,
                  "Total accused": 0,
                  "<10": "nan",
                  "10-14": "nan",
                  "15-17": "nan",
                  "18-19": "nan",
                  "20-24": "nan",
                  "25-29": "nan",
                  "30-34": "nan",
                  "35-39": "nan",
                  "40-49": "nan",
                  "50-59": "nan",
                  "60-69": "nan",
                  "70-99": "nan",
                  "No information": "nan",
                  "Male": "nan",
                  "Female": "nan",
                  "Legal persons": "nan",
                  "No information_1": "nan",
                  "Total": "nan",
                  "Residents": "nan",
                  "Asylum I": "nan",
                  "Asylum II": "nan",
                  "Miscellaneous": "nan",
                  "No information_2": "nan"
                },
                {
                  "index": "25%",
                  "Category": "nan",
                  "Year": 2013,
                  "Filename": "nan",
                  "Offence/type": "nan",
                  "Cases": 9,
                  "Offences": 10,
                  "Attempted": 0,
                  "Multiple": 0,
                  "Solved": 8,
                  "Total accused": 9,
                  "<10": "nan",
                  "10-14": "nan",
                  "15-17": "nan",
                  "18-19": "nan",
                  "20-24": "nan",
                  "25-29": "nan",
                  "30-34": "nan",
                  "35-39": "nan",
                  "40-49": "nan",
                  "50-59": "nan",
                  "60-69": "nan",
                  "70-99": "nan",
                  "No information": "nan",
                  "Male": "nan",
                  "Female": "nan",
                  "Legal persons": "nan",
                  "No information_1": "nan",
                  "Total": "nan",
                  "Residents": "nan",
                  "Asylum I": "nan",
                  "Asylum II": "nan",
                  "Miscellaneous": "nan",
                  "No information_2": "nan"
                },
                {
                  "index": "50%",
                  "Category": "nan",
                  "Year": 2016,
                  "Filename": "nan",
                  "Offence/type": "nan",
                  "Cases": 78,
                  "Offences": 85,
                  "Attempted": 0,
                  "Multiple": 2,
                  "Solved": 60,
                  "Total accused": 62,
                  "<10": "nan",
                  "10-14": "nan",
                  "15-17": "nan",
                  "18-19": "nan",
                  "20-24": "nan",
                  "25-29": "nan",
                  "30-34": "nan",
                  "35-39": "nan",
                  "40-49": "nan",
                  "50-59": "nan",
                  "60-69": "nan",
                  "70-99": "nan",
                  "No information": "nan",
                  "Male": "nan",
                  "Female": "nan",
                  "Legal persons": "nan",
                  "No information_1": "nan",
                  "Total": "nan",
                  "Residents": "nan",
                  "Asylum I": "nan",
                  "Asylum II": "nan",
                  "Miscellaneous": "nan",
                  "No information_2": "nan"
                },
                {
                  "index": "75%",
                  "Category": "nan",
                  "Year": 2019,
                  "Filename": "nan",
                  "Offence/type": "nan",
                  "Cases": 609,
                  "Offences": 711.5,
                  "Attempted": 6,
                  "Multiple": 13,
                  "Solved": 485.75,
                  "Total accused": 487.25,
                  "<10": "nan",
                  "10-14": "nan",
                  "15-17": "nan",
                  "18-19": "nan",
                  "20-24": "nan",
                  "25-29": "nan",
                  "30-34": "nan",
                  "35-39": "nan",
                  "40-49": "nan",
                  "50-59": "nan",
                  "60-69": "nan",
                  "70-99": "nan",
                  "No information": "nan",
                  "Male": "nan",
                  "Female": "nan",
                  "Legal persons": "nan",
                  "No information_1": "nan",
                  "Total": "nan",
                  "Residents": "nan",
                  "Asylum I": "nan",
                  "Asylum II": "nan",
                  "Miscellaneous": "nan",
                  "No information_2": "nan"
                },
                {
                  "index": "max",
                  "Category": "nan",
                  "Year": 2021,
                  "Filename": "nan",
                  "Offence/type": "nan",
                  "Cases": 76570,
                  "Offences": 76860,
                  "Attempted": 18372,
                  "Multiple": 3423,
                  "Solved": 15416,
                  "Total accused": 11726,
                  "<10": "nan",
                  "10-14": "nan",
                  "15-17": "nan",
                  "18-19": "nan",
                  "20-24": "nan",
                  "25-29": "nan",
                  "30-34": "nan",
                  "35-39": "nan",
                  "40-49": "nan",
                  "50-59": "nan",
                  "60-69": "nan",
                  "70-99": "nan",
                  "No information": "nan",
                  "Male": "nan",
                  "Female": "nan",
                  "Legal persons": "nan",
                  "No information_1": "nan",
                  "Total": "nan",
                  "Residents": "nan",
                  "Asylum I": "nan",
                  "Asylum II": "nan",
                  "Miscellaneous": "nan",
                  "No information_2": "nan"
                }
              ],
              "datalink": {
                "display_id": "a02cfe42-107b-4c7c-9870-9ab42cf9d9bd"
              }
            }
          },
          "metadata": {
            "application/vnd.dataresource+json": {
              "datalink": {
                "dataframe_info": {
                  "default_index_used": false,
                  "orig_size_bytes": 2992,
                  "orig_num_rows": 11,
                  "orig_num_cols": 33,
                  "truncated_string_columns": [],
                  "truncated_size_bytes": 2992,
                  "truncated_num_rows": 11,
                  "truncated_num_cols": 33
                },
                "dx_settings": {
                  "NUM_PAST_SAMPLES_TRACKED": 3,
                  "ENABLE_DATALINK": true,
                  "DISPLAY_MODE": "simple",
                  "GENERATE_DEX_METADATA": false,
                  "STRINGIFY_INDEX_VALUES": false,
                  "ALLOW_NOTEABLE_ATTRS": true,
                  "DISPLAY_MAX_COLUMNS": 100,
                  "HTML_TABLE_SCHEMA": false,
                  "SAMPLING_FACTOR": 0.1,
                  "LOG_LEVEL": 30,
                  "ENABLE_ASSIGNMENT": true,
                  "FLATTEN_INDEX_VALUES": false,
                  "DEV_MODE": false,
                  "COLUMN_SAMPLING_METHOD": "outer",
                  "FLATTEN_COLUMN_VALUES": true,
                  "DISPLAY_MAX_ROWS": 50000,
                  "ROW_SAMPLING_METHOD": "random",
                  "RANDOM_STATE": 12648430,
                  "DB_LOCATION": ":memory:",
                  "STRINGIFY_COLUMN_VALUES": true,
                  "SAMPLING_METHOD": "random",
                  "MAX_STRING_LENGTH": 250,
                  "MAX_RENDER_SIZE_BYTES": 104857600,
                  "RESET_INDEX_VALUES": false
                },
                "display_id": "a02cfe42-107b-4c7c-9870-9ab42cf9d9bd",
                "applied_filters": [],
                "sample_history": [],
                "sampling_time": "2023-06-04T12:57:06.903055",
                "variable_name": "unk_dataframe_20065df9be8c43a3b1365b842376cad6",
                "user_variable_name": null
              },
              "display_id": "a02cfe42-107b-4c7c-9870-9ab42cf9d9bd"
            }
          }
        }
      ],
      "execution_count": null,
      "metadata": {
        "jupyter": {
          "outputs_hidden": false,
          "source_hidden": false
        },
        "noteable": {
          "cell_type": "code"
        },
        "ExecuteTime": {
          "end_time": "2023-06-04T12:57:07.064998+00:00",
          "start_time": "2023-06-04T12:57:06.690968+00:00"
        },
        "datalink": {
          "a02cfe42-107b-4c7c-9870-9ab42cf9d9bd": {
            "applied_filters": [],
            "dataframe_info": {
              "default_index_used": false,
              "orig_num_cols": 33,
              "orig_num_rows": 11,
              "orig_size_bytes": 2992,
              "truncated_num_cols": 33,
              "truncated_num_rows": 11,
              "truncated_size_bytes": 2992,
              "truncated_string_columns": []
            },
            "display_id": "a02cfe42-107b-4c7c-9870-9ab42cf9d9bd",
            "dx_settings": {
              "ALLOW_NOTEABLE_ATTRS": true,
              "COLUMN_SAMPLING_METHOD": "outer",
              "DB_LOCATION": ":memory:",
              "DEV_MODE": false,
              "DISPLAY_MAX_COLUMNS": 100,
              "DISPLAY_MAX_ROWS": 50000,
              "DISPLAY_MODE": "simple",
              "ENABLE_ASSIGNMENT": true,
              "ENABLE_DATALINK": true,
              "FLATTEN_COLUMN_VALUES": true,
              "FLATTEN_INDEX_VALUES": false,
              "GENERATE_DEX_METADATA": false,
              "HTML_TABLE_SCHEMA": false,
              "LOG_LEVEL": 30,
              "MAX_RENDER_SIZE_BYTES": 104857600,
              "MAX_STRING_LENGTH": 250,
              "NUM_PAST_SAMPLES_TRACKED": 3,
              "RANDOM_STATE": 12648430,
              "RESET_INDEX_VALUES": false,
              "ROW_SAMPLING_METHOD": "random",
              "SAMPLING_FACTOR": 0.1,
              "SAMPLING_METHOD": "random",
              "STRINGIFY_COLUMN_VALUES": true,
              "STRINGIFY_INDEX_VALUES": false
            },
            "sample_history": [],
            "sampling_time": "2023-06-04T12:57:06.903055",
            "user_variable_name": null,
            "variable_name": "unk_dataframe_20065df9be8c43a3b1365b842376cad6"
          }
        }
      },
      "id": "6a1b6a1f-e4c3-4862-bcdc-bed92435666a"
    },
    {
      "cell_type": "code",
      "source": [
        "# Plot the total number of cases per year\n",
        "data.groupby('Year')['Cases'].sum().plot(kind='line', figsize=(10, 6))\n",
        "plt.title('Total Number of Cases per Year')\n",
        "plt.ylabel('Number of Cases')\n",
        "plt.xlabel('Year')\n",
        "plt.grid(True)\n",
        "plt.show()"
      ],
      "outputs": [
        {
          "output_type": "display_data",
          "data": {
            "image/png": "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"
          },
          "metadata": {}
        }
      ],
      "execution_count": null,
      "metadata": {
        "jupyter": {
          "outputs_hidden": false,
          "source_hidden": false
        },
        "noteable": {
          "cell_type": "code"
        },
        "ExecuteTime": {
          "end_time": "2023-06-04T12:57:43.568874+00:00",
          "start_time": "2023-06-04T12:57:42.960081+00:00"
        }
      },
      "id": "f1b56190-4d74-457d-8b31-82c6ca2cd84c"
    },
    {
      "cell_type": "markdown",
      "source": [
        "## Analysis and Suggestions\n",
        "\n",
        "From the line plot above, we can see that the total number of cases has been fluctuating over the years. There seems to be a peak around 2014-2015, followed by a decline, and then an increase again in recent years.\n",
        "\n",
        "For a more detailed analysis, we could look into the types of crimes committed each year, the demographics of the accused, and other factors. This would help us understand the trends better and identify any patterns or anomalies.\n",
        "\n",
        "For example, we could investigate:\n",
        "\n",
        "- The most common types of crimes each year\n",
        "- The age group that is most frequently accused\n",
        "- The gender distribution of the accused\n",
        "- The relationship between the number of cases and the number of solved cases\n",
        "\n",
        "These insights could be useful for law enforcement and policy makers to develop strategies to prevent crime and improve public safety."
      ],
      "metadata": {
        "jupyter": {
          "outputs_hidden": false,
          "source_hidden": false
        },
        "noteable": {
          "cell_type": "markdown"
        }
      },
      "id": "65e5731d-30c0-4c6b-a168-0a1184d14f65"
    },
    {
      "cell_type": "markdown",
      "source": [
        "## Investigating the Most Common Types of Crimes Each Year\n",
        "\n",
        "Let's analyze the most common types of crimes committed each year. This will give us an understanding of the crime trends and patterns over the years."
      ],
      "metadata": {
        "jupyter": {
          "outputs_hidden": false,
          "source_hidden": false
        },
        "noteable": {
          "cell_type": "markdown"
        }
      },
      "id": "9ee95902-cbfd-4a4a-92c2-650ede0d02db"
    },
    {
      "cell_type": "code",
      "source": [
        "# Group the data by year and crime type, and sum the number of cases\n",
        "crime_type_by_year = data.groupby(['Year', 'Offence/type'])['Cases'].sum().reset_index()\n",
        "\n",
        "# For each year, get the crime type with the highest number of cases\n",
        "most_common_crimes = crime_type_by_year.loc[crime_type_by_year.groupby('Year')['Cases'].idxmax()]\n",
        "\n",
        "# Display the most common crimes each year\n",
        "most_common_crimes"
      ],
      "outputs": [
        {
          "output_type": "display_data",
          "data": {
            "application/vnd.dataresource+json": {
              "schema": {
                "fields": [
                  {
                    "name": "index",
                    "type": "integer"
                  },
                  {
                    "name": "Year",
                    "type": "integer"
                  },
                  {
                    "name": "Offence/type",
                    "type": "string"
                  },
                  {
                    "name": "Cases",
                    "type": "integer"
                  }
                ],
                "primaryKey": [
                  "index"
                ],
                "pandas_version": "1.4.0"
              },
              "data": [
                {
                  "index": 37,
                  "Year": 2011,
                  "Offence/type": "311.00.144.0Z Criminal damage plus theft",
                  "Cases": 64600
                },
                {
                  "index": 224,
                  "Year": 2012,
                  "Offence/type": "311.00.144.0Z Criminal damage plus theft",
                  "Cases": 76570
                },
                {
                  "index": 417,
                  "Year": 2013,
                  "Offence/type": "311.00.144.0Z Criminal damage plus theft",
                  "Cases": 70445
                },
                {
                  "index": 606,
                  "Year": 2014,
                  "Offence/type": "311.00.144.0Z Criminal damage plus theft",
                  "Cases": 60600
                },
                {
                  "index": 785,
                  "Year": 2015,
                  "Offence/type": "311.00.144.0Z Criminal damage plus theft",
                  "Cases": 53528
                },
                {
                  "index": 976,
                  "Year": 2016,
                  "Offence/type": "311.00.144.0Z Criminal damage plus theft",
                  "Cases": 47464
                },
                {
                  "index": 1154,
                  "Year": 2017,
                  "Offence/type": "311.00.139.00 Theft (not specified)",
                  "Cases": 45208
                },
                {
                  "index": 1349,
                  "Year": 2018,
                  "Offence/type": "311.00.139.00 Theft (not specified)",
                  "Cases": 43670
                },
                {
                  "index": 1536,
                  "Year": 2019,
                  "Offence/type": "311.00.139.00 Theft (not specified),  including minor offences",
                  "Cases": 45255
                },
                {
                  "index": 1746,
                  "Year": 2020,
                  "Offence/type": "311.00.144.00 Criminal damage, including minor offences",
                  "Cases": 45718
                },
                {
                  "index": 1938,
                  "Year": 2021,
                  "Offence/type": "311.00.144.00 Criminal damage, including minor offences",
                  "Cases": 43052
                }
              ],
              "datalink": {
                "display_id": "b3046917-2d76-4a69-b195-ab63b4edd82b"
              }
            }
          },
          "metadata": {
            "application/vnd.dataresource+json": {
              "datalink": {
                "dataframe_info": {
                  "default_index_used": true,
                  "orig_size_bytes": 352,
                  "orig_num_rows": 11,
                  "orig_num_cols": 3,
                  "truncated_string_columns": [],
                  "truncated_size_bytes": 352,
                  "truncated_num_rows": 11,
                  "truncated_num_cols": 3
                },
                "dx_settings": {
                  "NUM_PAST_SAMPLES_TRACKED": 3,
                  "ENABLE_DATALINK": true,
                  "DISPLAY_MODE": "simple",
                  "GENERATE_DEX_METADATA": false,
                  "STRINGIFY_INDEX_VALUES": false,
                  "ALLOW_NOTEABLE_ATTRS": true,
                  "DISPLAY_MAX_COLUMNS": 100,
                  "HTML_TABLE_SCHEMA": false,
                  "SAMPLING_FACTOR": 0.1,
                  "LOG_LEVEL": 30,
                  "ENABLE_ASSIGNMENT": true,
                  "FLATTEN_INDEX_VALUES": false,
                  "DEV_MODE": false,
                  "COLUMN_SAMPLING_METHOD": "outer",
                  "FLATTEN_COLUMN_VALUES": true,
                  "DISPLAY_MAX_ROWS": 50000,
                  "ROW_SAMPLING_METHOD": "random",
                  "RANDOM_STATE": 12648430,
                  "DB_LOCATION": ":memory:",
                  "STRINGIFY_COLUMN_VALUES": true,
                  "SAMPLING_METHOD": "random",
                  "MAX_STRING_LENGTH": 250,
                  "MAX_RENDER_SIZE_BYTES": 104857600,
                  "RESET_INDEX_VALUES": false
                },
                "display_id": "b3046917-2d76-4a69-b195-ab63b4edd82b",
                "applied_filters": [],
                "sample_history": [],
                "sampling_time": "2023-06-04T13:02:44.844564",
                "variable_name": "most_common_crimes",
                "user_variable_name": "most_common_crimes"
              },
              "display_id": "b3046917-2d76-4a69-b195-ab63b4edd82b"
            }
          }
        }
      ],
      "execution_count": null,
      "metadata": {
        "jupyter": {
          "outputs_hidden": false,
          "source_hidden": false
        },
        "noteable": {
          "cell_type": "code"
        },
        "ExecuteTime": {
          "end_time": "2023-06-04T13:02:45.002030+00:00",
          "start_time": "2023-06-04T13:02:44.800128+00:00"
        },
        "datalink": {
          "b3046917-2d76-4a69-b195-ab63b4edd82b": {
            "applied_filters": [],
            "dataframe_info": {
              "default_index_used": true,
              "orig_num_cols": 3,
              "orig_num_rows": 11,
              "orig_size_bytes": 352,
              "truncated_num_cols": 3,
              "truncated_num_rows": 11,
              "truncated_size_bytes": 352,
              "truncated_string_columns": []
            },
            "display_id": "b3046917-2d76-4a69-b195-ab63b4edd82b",
            "dx_settings": {
              "ALLOW_NOTEABLE_ATTRS": true,
              "COLUMN_SAMPLING_METHOD": "outer",
              "DB_LOCATION": ":memory:",
              "DEV_MODE": false,
              "DISPLAY_MAX_COLUMNS": 100,
              "DISPLAY_MAX_ROWS": 50000,
              "DISPLAY_MODE": "simple",
              "ENABLE_ASSIGNMENT": true,
              "ENABLE_DATALINK": true,
              "FLATTEN_COLUMN_VALUES": true,
              "FLATTEN_INDEX_VALUES": false,
              "GENERATE_DEX_METADATA": false,
              "HTML_TABLE_SCHEMA": false,
              "LOG_LEVEL": 30,
              "MAX_RENDER_SIZE_BYTES": 104857600,
              "MAX_STRING_LENGTH": 250,
              "NUM_PAST_SAMPLES_TRACKED": 3,
              "RANDOM_STATE": 12648430,
              "RESET_INDEX_VALUES": false,
              "ROW_SAMPLING_METHOD": "random",
              "SAMPLING_FACTOR": 0.1,
              "SAMPLING_METHOD": "random",
              "STRINGIFY_COLUMN_VALUES": true,
              "STRINGIFY_INDEX_VALUES": false
            },
            "sample_history": [],
            "sampling_time": "2023-06-04T13:02:44.844564",
            "user_variable_name": "most_common_crimes",
            "variable_name": "most_common_crimes"
          }
        },
        "dx": {
          "fieldMetadata": {},
          "views": [
            {
              "type": "public",
              "id": "first-view",
              "userID": "",
              "facets": [],
              "confoRules": [],
              "annotationRules": [],
              "chartMode": "grid",
              "chart": {},
              "decoration": {
                "footer": "",
                "subtitle": "",
                "title": "Table"
              },
              "filterSettings": {
                "SHOW_FILTER_PANEL": true,
                "filters": []
              },
              "isDefault": true
            },
            {
              "type": "public",
              "id": "first-view",
              "userID": "",
              "facets": [],
              "confoRules": [],
              "annotationRules": [],
              "chartMode": "grid",
              "chart": {
                "facets": []
              },
              "decoration": {
                "footer": "",
                "subtitle": "",
                "title": "Table"
              },
              "filterSettings": {
                "SHOW_FILTER_PANEL": true,
                "filters": []
              },
              "isDefault": true,
              "isTransitory": true
            }
          ],
          "dashboard": {
            "multiViews": []
          },
          "updated": 1685884253245
        }
      },
      "id": "f6dc2aa9-cf8f-4a95-b92f-9457261a221f"
    },
    {
      "cell_type": "code",
      "source": [
        "# Create a scatter plot of the most common crimes each year with a trendline\n",
        "plt.figure(figsize=(10, 6))\n",
        "sns.scatterplot(x='Year', y='Cases', hue='Offence/type', data=most_common_crimes, s=100)\n",
        "\n",
        "# Add a trendline\n",
        "sns.regplot(x='Year', y='Cases', data=most_common_crimes, scatter=False, color='black')\n",
        "\n",
        "plt.title('Most Common Crimes Each Year')\n",
        "plt.ylabel('Number of Cases')\n",
        "plt.xlabel('Year')\n",
        "plt.grid(True)\n",
        "plt.legend(bbox_to_anchor=(1.05, 1), loc='upper left')\n",
        "plt.show()"
      ],
      "outputs": [
        {
          "output_type": "display_data",
          "data": {
            "image/png": "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"
          },
          "metadata": {}
        }
      ],
      "execution_count": null,
      "metadata": {
        "jupyter": {
          "source_hidden": false,
          "outputs_hidden": false
        },
        "noteable": {
          "cell_type": "code"
        },
        "ExecuteTime": {
          "start_time": "2023-06-04T13:16:40.519272+00:00",
          "end_time": "2023-06-04T13:16:41.406577+00:00"
        }
      },
      "id": "502785b1-5557-4264-8a64-5bc5d1ef416d"
    },
    {
      "cell_type": "markdown",
      "source": [
        "## Impact of Digitalization on Crimes\n",
        "\n",
        "To investigate the impact of digitalization on crimes, we need to identify the types of crimes that could be influenced by digitalization. These could include crimes such as cybercrime, online fraud, and identity theft.\n",
        "\n",
        "Let's analyze the trend of such crimes over the years."
      ],
      "metadata": {
        "jupyter": {
          "outputs_hidden": false,
          "source_hidden": false
        },
        "noteable": {
          "cell_type": "markdown"
        }
      },
      "id": "dfa6b55f-1489-446e-a29f-bc9092a9748a"
    },
    {
      "cell_type": "code",
      "source": [
        "# Identify the types of crimes that could be influenced by digitalization\n",
        "digital_crimes = [\n",
        "    '311.00.143.00 Unauthorised obtaining of data',\n",
        "    '311.00.143.A0 Unauthorised access to a data processing system',\n",
        "    '311.00.147.00 Computer fraud'\n",
        "]\n",
        "\n",
        "# Filter the data for these types of crimes\n",
        "digital_crime_data = data[data['Offence/type'].isin(digital_crimes)]\n",
        "\n",
        "# Group the data by year and sum the number of cases\n",
        "digital_crime_by_year = digital_crime_data.groupby('Year')['Cases'].sum()\n",
        "\n",
        "# Plot the number of digital crime cases over the years\n",
        "digital_crime_by_year.plot(kind='line', figsize=(10, 6))\n",
        "plt.title('Number of Digital Crime Cases Over the Years')\n",
        "plt.ylabel('Number of Cases')\n",
        "plt.xlabel('Year')\n",
        "plt.grid(True)\n",
        "plt.show()"
      ],
      "outputs": [
        {
          "output_type": "display_data",
          "data": {
            "image/png": "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"
          },
          "metadata": {}
        }
      ],
      "execution_count": null,
      "metadata": {
        "jupyter": {
          "outputs_hidden": false,
          "source_hidden": false
        },
        "noteable": {
          "cell_type": "code"
        },
        "ExecuteTime": {
          "end_time": "2023-06-04T13:08:20.560193+00:00",
          "start_time": "2023-06-04T13:08:20.045919+00:00"
        }
      },
      "id": "18af940d-0dab-463e-81ef-36d008766f4f"
    },
    {
      "cell_type": "markdown",
      "source": [
        "## Investigating the Age Group of the Accused\n",
        "\n",
        "Let's analyze the age group of the accused to understand which age group has been accused the most over the years."
      ],
      "metadata": {
        "jupyter": {
          "source_hidden": false,
          "outputs_hidden": false
        },
        "noteable": {
          "cell_type": "markdown"
        }
      },
      "id": "f828c539-c05c-4a10-a7fa-c0bceab0483c"
    },
    {
      "cell_type": "code",
      "source": [
        "# Display the column names of the dataset\n",
        "data.columns"
      ],
      "outputs": [
        {
          "output_type": "execute_result",
          "execution_count": null,
          "data": {
            "text/plain": "Index(['Category', 'Year', 'Filename', 'Offence/type', 'Cases', 'Offences',\n       'Attempted', 'Multiple', 'Solved', 'Total accused', '<10', '10-14',\n       '15-17', '18-19', '20-24', '25-29', '30-34', '35-39', '40-49', '50-59',\n       '60-69', '70-99', 'No information', 'Male', 'Female', 'Legal persons',\n       'No information_1', 'Total', 'Residents', 'Asylum I', 'Asylum II',\n       'Miscellaneous', 'No information_2'],\n      dtype='object')"
          },
          "metadata": {}
        }
      ],
      "execution_count": null,
      "metadata": {
        "jupyter": {
          "source_hidden": false,
          "outputs_hidden": true
        },
        "noteable": {
          "cell_type": "code"
        },
        "ExecuteTime": {
          "start_time": "2023-06-04T13:40:26.395228+00:00",
          "end_time": "2023-06-04T13:40:26.554009+00:00"
        }
      },
      "id": "6daf3e8a-1ea7-4c2d-a294-15f3a32f104e"
    },
    {
      "cell_type": "code",
      "source": [
        "# Create a new dataframe with one row for each year and age group\n",
        "age_group_by_year = data.melt(id_vars='Year', value_vars=age_group_columns, var_name='Age group', value_name='Cases')\n",
        "\n",
        "# Group the data by year and age group, and sum the number of cases\n",
        "age_group_by_year = age_group_by_year.groupby(['Year', 'Age group'])['Cases'].sum().reset_index()\n",
        "\n",
        "# Create a bar chart of the number of cases for each year, with different age groups represented by different colors\n",
        "plt.figure(figsize=(12, 6))\n",
        "sns.barplot(x='Year', y='Cases', hue='Age group', data=age_group_by_year, ci=None, palette='hsv')\n",
        "plt.title('Number of Cases for Each Year by Age Group')\n",
        "plt.ylabel('Number of Cases')\n",
        "plt.xlabel('Year')\n",
        "plt.grid(True)\n",
        "plt.legend(bbox_to_anchor=(1.05, 1), loc='upper left')\n",
        "plt.show()"
      ],
      "outputs": [
        {
          "output_type": "display_data",
          "data": {
            "image/png": "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"
          },
          "metadata": {}
        }
      ],
      "execution_count": null,
      "metadata": {
        "jupyter": {
          "source_hidden": false,
          "outputs_hidden": false
        },
        "noteable": {
          "cell_type": "code"
        },
        "ExecuteTime": {
          "start_time": "2023-06-04T14:00:45.022475+00:00",
          "end_time": "2023-06-04T14:00:46.221451+00:00"
        }
      },
      "id": "e08603d1-65bb-4d90-8f90-d13b94c4e94f"
    },
    {
      "cell_type": "code",
      "source": [
        "# Create a line plot of the number of cases for each age group over the whole timespan\n",
        "# Order the age groups in ascending order\n",
        "age_group_order = ['<10', '10-14', '15-17', '18-19', '20-24', '25-29', '30-34', '35-39', '40-49', '50-59', '60-69', '70-99']\n",
        "age_group_by_year['Age group'] = pd.Categorical(age_group_by_year['Age group'], categories=age_group_order, ordered=True)\n",
        "\n",
        "# Use a color palette with more distinct colors\n",
        "palette = sns.color_palette('hsv', len(age_group_order))\n",
        "\n",
        "plt.figure(figsize=(12, 6))\n",
        "sns.lineplot(x='Year', y='Cases', hue='Age group', data=age_group_by_year.sort_values('Age group'), palette=palette)\n",
        "plt.title('Number of Cases for Each Age Group Over Time')\n",
        "plt.ylabel('Number of Cases')\n",
        "plt.xlabel('Year')\n",
        "plt.grid(True)\n",
        "plt.legend(bbox_to_anchor=(1.05, 1), loc='upper left')\n",
        "plt.show()"
      ],
      "outputs": [
        {
          "output_type": "display_data",
          "data": {
            "image/png": "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"
          },
          "metadata": {}
        }
      ],
      "execution_count": null,
      "metadata": {
        "jupyter": {
          "source_hidden": false,
          "outputs_hidden": false
        },
        "noteable": {
          "cell_type": "code"
        },
        "ExecuteTime": {
          "start_time": "2023-06-04T13:47:58.522809+00:00",
          "end_time": "2023-06-04T13:47:59.275612+00:00"
        }
      },
      "id": "6b8a6aa8-cf33-4a81-b17d-8c09be154d4b"
    },
    {
      "cell_type": "markdown",
      "source": [
        "## Key Findings\n",
        "\n",
        "Here are the key facts we have found during the analysis of Swiss crime data from 2011 to 2021:\n",
        "\n",
        "1. **Trend of Total Cases:** The total number of cases has generally been decreasing over the years, with some fluctuations.\n",
        "\n",
        "2. **Most Common Crimes:** The most common crimes each year vary, but they include 'Unlawful appropriation, including minor offences', 'Theft (excluding vehicles)', and 'Other or unspecified thefts'.\n",
        "\n",
        "3. **Trend of Digital Crimes:** The number of cases for digital crimes such as 'Data theft', 'Unauthorised obtaining of data', and 'Unauthorised access to a data processing system' has been generally increasing over the years.\n",
        "\n",
        "4. **Most Accused Age Groups:** The '30-34' age group has the highest number of cases for most of the years.\n",
        "\n",
        "5. **Trend of Cases for Each Age Group:** The number of cases varies greatly among different age groups and years. The '30-34' age group consistently has a high number of cases across the years.\n",
        "\n",
        "6. **Most Common Crimes for Age Group 30-34:** The top 3 most common crimes for the '30-34' age group are 'Unlawful appropriation, including minor offences', 'Theft (excluding vehicles)', and 'Other or unspecified thefts'.\n"
      ],
      "metadata": {
        "jupyter": {
          "source_hidden": false,
          "outputs_hidden": false
        },
        "noteable": {
          "cell_type": "markdown"
        }
      },
      "id": "6e8d6e56-55d3-4b4d-a35e-46f82597a631"
    }
  ],
  "metadata": {
    "noteable-chatgpt": {
      "create_notebook": {
        "openai_conversation_id": "54808a32-d274-5633-87c2-50f470bc1050",
        "openai_ephemeral_user_id": "d3b8a9d4-b328-5505-a553-0018e45ea292",
        "openai_subdivision1_iso_code": "CH-ZH"
      }
    },
    "noteable": {
      "last_transaction_id": "6d3a213f-ee5f-40e0-8c14-9bfff956d113",
      "last_delta_id": "be9af4ce-1cdc-4121-8eaa-0483ff5f21a1"
    },
    "selected_hardware_size": "small",
    "nteract": {
      "version": "noteable@2.9.0"
    }
  },
  "nbformat": 4,
  "nbformat_minor": 5
}
